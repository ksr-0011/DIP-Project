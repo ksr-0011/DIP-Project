{
 "cells": [
  {
   "cell_type": "markdown",
   "id": "d0191b8c-3e00-42e6-a6ef-8acd7fec1aa9",
   "metadata": {
    "jp-MarkdownHeadingCollapsed": true
   },
   "source": [
    "# Required Libraries"
   ]
  },
  {
   "cell_type": "code",
   "execution_count": null,
   "id": "af9458c6-4fa8-4520-82b1-42ed7c2061cb",
   "metadata": {},
   "outputs": [],
   "source": [
    "import cv2\n",
    "import numpy as np\n",
    "import matplotlib.pyplot as plt\n",
    "import os"
   ]
  },
  {
   "cell_type": "markdown",
   "id": "210b9c5a-0860-4bcf-aa83-9f22bad6a145",
   "metadata": {
    "jp-MarkdownHeadingCollapsed": true
   },
   "source": [
    "# Load image\n",
    "\n",
    "**Get respective folder_path and filename for saving processed images**"
   ]
  },
  {
   "cell_type": "code",
   "execution_count": null,
   "id": "e13ba4a0-18e8-4629-bfad-05974a1aca64",
   "metadata": {},
   "outputs": [],
   "source": [
    "def load_image(path):                                                      \n",
    "    image = cv2.imread(path)                                # Load the eye image and convert to grayscale\n",
    "    image_gs = cv2.cvtColor(image, cv2.COLOR_BGR2GRAY)      # Convert to grayscale\n",
    "\n",
    "    folder_path, filename = os.path.split(path)             # Get the image path\n",
    "\n",
    "    # Display the grayscale image using Matplotlib\n",
    "    # plt.imshow(image, cmap='gray')\n",
    "    # plt.show()\n",
    "\n",
    "    return image_gs, folder_path, filename"
   ]
  },
  {
   "cell_type": "markdown",
   "id": "95112515-d1d1-4707-a866-1b6396fcb069",
   "metadata": {
    "jp-MarkdownHeadingCollapsed": true
   },
   "source": [
    "# Pupil Segementation"
   ]
  },
  {
   "cell_type": "code",
   "execution_count": null,
   "id": "0abe08a1-2f10-4522-91f5-4221aa4ca66b",
   "metadata": {},
   "outputs": [],
   "source": [
    "def pupil_segmentation(image, threshold_value):\n",
    "    global eye_folder_path, eye_filename\n",
    "    \n",
    "    # Step 1: Inverse the image\n",
    "    inv_eye_image = cv2.bitwise_not(image)\n",
    "    \n",
    "    # Step 2: Apply threshold to the inverse image\n",
    "    ret, thresh = cv2.threshold(inv_eye_image, threshold_value*255, 255, cv2.THRESH_BINARY)\n",
    "    \n",
    "    # Step 3: Erosion with a circular structural element\n",
    "    kernel_size = (1, 1)  # Adjust the kernel size as needed\n",
    "    kernel = cv2.getStructuringElement(cv2.MORPH_ELLIPSE, kernel_size)\n",
    "    eroded_img = cv2.erode(thresh, kernel, iterations=50)\n",
    "    \n",
    "    # Step 4: Finding the largest connected component\n",
    "    nb_components, output, stats, centroids = cv2.connectedComponentsWithStats(eroded_img, connectivity=8)\n",
    "    \n",
    "    # Get the index of the component with the largest area\n",
    "    max_label = np.argmax(stats[1:, cv2.CC_STAT_AREA]) + 1\n",
    "    max_area = stats[max_label, cv2.CC_STAT_AREA]\n",
    "\n",
    "    # Get the x, y coordinates of the centroid of the largest component\n",
    "    x, y = map(int, centroids[max_label])\n",
    "\n",
    "    # Calculate the radius\n",
    "    radius = int(np.sqrt(max_area / np.pi)) + 2\n",
    "   \n",
    "    # Draw a thick red circle around the largest component\n",
    "    img_circle = cv2.cvtColor(image, cv2.COLOR_GRAY2RGB)\n",
    "    cv2.circle(img_circle, (x, y), radius, (255, 0, 0), 2)\n",
    "    \n",
    "    # Save the Image\n",
    "    new_filename = eye_filename.replace('.bmp', '_1_Pupil_Segmented.bmp')\n",
    "    new_image_path = os.path.join(eye_folder_path, new_filename)\n",
    "    cv2.imwrite(new_image_path, cv2.cvtColor(img_circle, cv2.COLOR_RGB2BGR))\n",
    "    \n",
    "    # Display the final image with the red circle\n",
    "    #plt.imshow(img_circle)\n",
    "    #plt.show()\n",
    "\n",
    "    return x, y, radius"
   ]
  },
  {
   "cell_type": "markdown",
   "id": "7d1b7822-da0c-461e-90a6-965e3a675f07",
   "metadata": {},
   "source": [
    "# Iris Segmentation"
   ]
  },
  {
   "cell_type": "markdown",
   "id": "3f667068-112f-4c83-b550-5a2b2399b5de",
   "metadata": {},
   "source": [
    "**Gamma Correction**"
   ]
  },
  {
   "cell_type": "code",
   "execution_count": null,
   "id": "7aebd341-3f16-4aec-889b-c17c2660b7db",
   "metadata": {},
   "outputs": [],
   "source": [
    "def gamma_correction(gamma, image, radius):\n",
    "    \n",
    "    img_gamma = np.power(image / 255, gamma) * 255\n",
    "    img_gamma = np.array(img_gamma, dtype=np.uint8)\n",
    "    \n",
    "    # Step 2: Process with a median filter\n",
    "    img_median = cv2.medianBlur(img_gamma, 5)\n",
    "    \n",
    "    # Step 3: Circular Hough Transform\n",
    "    circles = cv2.HoughCircles(\n",
    "        img_median, cv2.HOUGH_GRADIENT, dp=1, minDist=20,\n",
    "        param1=50, param2=30, minRadius=radius, maxRadius=3 * radius)\n",
    "\n",
    "    return circles"
   ]
  },
  {
   "cell_type": "markdown",
   "id": "f9e8ff05-c501-44cc-9652-e9554417bbfc",
   "metadata": {},
   "source": [
    "**Iris Segmentation**"
   ]
  },
  {
   "cell_type": "code",
   "execution_count": null,
   "id": "c5b800ac-1652-4e6d-b75b-e9b4bb16d4b3",
   "metadata": {},
   "outputs": [],
   "source": [
    "def iris_seg(g, image, x, y, radius, t, circles):     # t = threshold, g = gamma\n",
    "    \n",
    "    global eye_folder_path, eye_filename\n",
    "\n",
    "    if circles is not None:\n",
    "        circles = np.uint16(np.around(circles))\n",
    "        img_circle = cv2.cvtColor(image, cv2.COLOR_GRAY2RGB)\n",
    "        for i in circles[0, :]:\n",
    "            cv2.circle(img_circle, (i[0], i[1]), i[2], (255, 0, 0), 2)   # draw the outer circle\n",
    "            cv2.circle(img_circle, (i[0], i[1]), 2, (255, 0, 0), 3)      # draw the center of the circle\n",
    "        #plt.imshow(img_circle)\n",
    "        \n",
    "        # Step 4: Filter circles with offset from iris < 20\n",
    "        iris_circles = [i for i in circles[0, :] if np.sqrt((i[0] - x) ** 2 + (i[1] - y) ** 2) < 20]\n",
    "        iris_circles = np.array(iris_circles)\n",
    "        img_circle = cv2.cvtColor(image, cv2.COLOR_GRAY2RGB)\n",
    "        for i in iris_circles:\n",
    "            cv2.circle(img_circle, (i[0], i[1]), i[2], (255, 0, 0), 2)    # draw the outer circle\n",
    "            cv2.circle(img_circle, (i[0], i[1]), 2, (255, 0, 0), 3)       # draw the center of the circle\n",
    "        #plt.imshow(img_circle)\n",
    "        \n",
    "        # Step 5: Choose the circle with the largest radius\n",
    "        if(len(iris_circles) == 0):\n",
    "            iris_circle = [x, y, int(2.2*radius)]\n",
    "        else:\n",
    "            iris_circle = iris_circles[np.argmax(iris_circles[:, 2])]\n",
    "\n",
    "    else:\n",
    "        iris_circle = [x, y, int(2.2*radius)]\n",
    "        \n",
    "    img_circle = cv2.cvtColor(image, cv2.COLOR_GRAY2RGB)    # draw the outer circle\n",
    "    cv2.circle(img_circle, (iris_circle[0], iris_circle[1]), iris_circle[2], (255, 0, 0), 2)\n",
    "    \n",
    "    # Draw pupil circle also\n",
    "    cv2.circle(img_circle, (x, y), radius, (255, 0, 0), 2)\n",
    "    \n",
    "    # Save the Image\n",
    "    new_filename = eye_filename.replace('.bmp', '_2_Iris_Segmented.bmp')\n",
    "    new_image_path = os.path.join(eye_folder_path, new_filename)\n",
    "    cv2.imwrite(new_image_path, cv2.cvtColor(img_circle, cv2.COLOR_RGB2BGR))\n",
    "    #plt.imshow(img_circle)\n",
    "    \n",
    "    return iris_circle"
   ]
  },
  {
   "cell_type": "markdown",
   "id": "03f27b12-1cef-43a9-8548-af990c1c5b6b",
   "metadata": {},
   "source": [
    "# Iris Normalization"
   ]
  },
  {
   "cell_type": "code",
   "execution_count": null,
   "id": "260cc548-24dd-4f08-b33f-da8ef46da005",
   "metadata": {},
   "outputs": [],
   "source": [
    "def iris_normalization(image, iris_circle, radius, h, w):    # h = height, w = width\n",
    "    #print(\"Image shape:\", image.shape)\n",
    "    global eye_folder_path, eye_filename\n",
    "    \n",
    "    # Radius of outer circle : Iris (approx 63)\n",
    "    r_out = iris_circle[2]\n",
    "    # Radius of inner circle : Pupil (approx 23)\n",
    "    r_in = radius\n",
    "\n",
    "    #print(r_out)\n",
    "    #print(r_in)\n",
    "    \n",
    "    # Step 1: Rubber sheet model\n",
    "    img_rubber = np.zeros((h, w, 3), np.uint8)\n",
    "    thetas = np.linspace(0, 2 * np.pi, w)\n",
    "    \n",
    "    for i in range(h):\n",
    "        for j in range(w):\n",
    "            r = r_in + (r_out - r_in) * i / h\n",
    "            x = int(r * np.cos(thetas[j]) + iris_circle[0])\n",
    "            y = int(r * np.sin(thetas[j]) + iris_circle[1])\n",
    "            #print(f'{x} {y}')\n",
    "            img_rubber[i, j] = image[y, x]\n",
    "    \n",
    "    # Save the Image\n",
    "    new_filename = eye_filename.replace('.bmp', '_3_Rubber.bmp')\n",
    "    new_image_path = os.path.join(eye_folder_path, new_filename)\n",
    "    cv2.imwrite(new_image_path, img_rubber)\n",
    "    \n",
    "    #plt.imshow(img_rubber, cmap='gray')\n",
    "\n",
    "    return img_rubber"
   ]
  },
  {
   "cell_type": "markdown",
   "id": "d1a922e6-1980-45df-919e-e36118d86c77",
   "metadata": {},
   "source": [
    "# Eyelash Detection"
   ]
  },
  {
   "cell_type": "code",
   "execution_count": null,
   "id": "c0adea63-65d8-43f6-8023-0e4017084d3f",
   "metadata": {},
   "outputs": [],
   "source": [
    "def eyelash_detection(img_rubber, t):\n",
    "    global eye_folder_path, eye_filename\n",
    "    \n",
    "    # Step 1: Inverse the image and apply threshold\n",
    "    img_rubber_gs = cv2.cvtColor(img_rubber, cv2.COLOR_BGR2GRAY)\n",
    "    inv_eye_image = cv2.bitwise_not(img_rubber_gs)\n",
    "    ret, thresh2 = cv2.threshold(inv_eye_image, t*255, 255, cv2.THRESH_BINARY)\n",
    "    \n",
    "    # Step 2: Erosion with a circular structural element\n",
    "    kernel = cv2.getStructuringElement(cv2.MORPH_ELLIPSE, (1, 1))\n",
    "    eroded_img2 = cv2.erode(thresh2, kernel, iterations=1)\n",
    "    \n",
    "    # Step 3: Remove connected components with the number of pixels less than 10\n",
    "    nb_components, output, stats, centroids = cv2.connectedComponentsWithStats(eroded_img2, connectivity=8)\n",
    "    sizes = stats[1:, -1]\n",
    "    nb_components = nb_components - 1\n",
    "    min_size = 10\n",
    "    img_cleaned = np.zeros(output.shape, dtype=np.uint8)\n",
    "    for i in range(0, nb_components):\n",
    "        if sizes[i] >= min_size:\n",
    "            img_cleaned[output == i + 1] = 255\n",
    "    #plt.imshow(img_cleaned, cmap='gray')\n",
    "    \n",
    "    # Step 4: Dilate the image with a 4x4 square structural element\n",
    "    kernel = np.ones((4, 4), np.uint8)\n",
    "    img_dilated = cv2.dilate(img_cleaned, kernel, iterations=1)\n",
    "    \n",
    "    # Save the Image\n",
    "    new_filename = eye_filename.replace('.bmp', '_4_Dilated.bmp')\n",
    "    new_image_path = os.path.join(eye_folder_path, new_filename)\n",
    "    cv2.imwrite(new_image_path, img_dilated)\n",
    "    \n",
    "    #plt.imshow(img_dilated, cmap='gray')\n",
    "\n",
    "    return img_dilated"
   ]
  },
  {
   "cell_type": "markdown",
   "id": "f4d996b2-c984-4de8-96a1-cfeb5cecb13f",
   "metadata": {},
   "source": [
    "# Parabolic Projection"
   ]
  },
  {
   "cell_type": "code",
   "execution_count": null,
   "id": "b3181b0a-5061-4b62-a3c6-6d2b91655420",
   "metadata": {},
   "outputs": [],
   "source": [
    "def parabolic_projection(img_dilated, img_rubber):\n",
    "    global eye_folder_path, eye_filename\n",
    "\n",
    "    # Step 1: Divide the image into left and right halves\n",
    "    img_left = img_dilated[:, :180].astype(np.uint8)\n",
    "    img_right = img_dilated[:, 180:].astype(np.uint8)\n",
    "    \n",
    "    # Step 2: For the left side, estimate coefficients a, b, c for the parabolic curve\n",
    "    edges_left = cv2.Canny(img_left, 30, 70, apertureSize=3)\n",
    "    indices_left = np.where(edges_left != [0])\n",
    "    x_left = indices_left[1]\n",
    "    y_left = indices_left[0]\n",
    "    A_left = np.array([x_left**2, x_left, np.ones(len(x_left))]).T\n",
    "    B_left = y_left\n",
    "    a_left, b_left, c_left = np.linalg.lstsq(A_left, B_left, rcond=None)[0]\n",
    "    \n",
    "    # Step 3: For the right side, estimate coefficients a, b, c for the parabolic curve\n",
    "    edges_right = cv2.Canny(img_right, 30, 70, apertureSize=3)\n",
    "    indices_right = np.where(edges_right != [0])\n",
    "    x_right = indices_right[1]\n",
    "    y_right = indices_right[0]\n",
    "    A_right = np.array([x_right**2, x_right, np.ones(len(x_right))]).T\n",
    "    B_right = y_right\n",
    "    a_right, b_right, c_right = np.linalg.lstsq(A_right, B_right, rcond=None)[0]\n",
    "    \n",
    "    # Step 4: Change pixel values to the mean value of the image_rubber if they lie under the parabola\n",
    "    img_rubber_2 = img_rubber.copy()\n",
    "    mean_val = np.mean(img_rubber_2)\n",
    "    \n",
    "    for i in range(0, img_rubber_2.shape[1] // 2):\n",
    "        y_left = int(a_left * i**2 + b_left * i + c_left)\n",
    "        y_right = int(a_right * i**2 + b_right * i + c_right)\n",
    "        \n",
    "        if y_left < img_rubber_2.shape[0]:\n",
    "            img_rubber_2[:y_left, i] = mean_val\n",
    "        \n",
    "        if y_right < img_rubber_2.shape[0]:\n",
    "            img_rubber_2[y_right:, i + img_rubber_2.shape[1] // 2] = mean_val\n",
    "    \n",
    "    # Save the Image\n",
    "    new_filename = eye_filename.replace('.bmp', '_5_Parabolic.bmp')\n",
    "    new_image_path = os.path.join(eye_folder_path, new_filename)\n",
    "    cv2.imwrite(new_image_path, img_rubber_2)\n",
    "\n",
    "    #plt.imshow(img_rubber_2, cmap='gray')\n",
    "    return img_rubber_2"
   ]
  },
  {
   "cell_type": "markdown",
   "id": "134a6b05-4c25-4e7a-89f9-7e9e458a4c06",
   "metadata": {},
   "source": [
    "# Histogram Equalization"
   ]
  },
  {
   "cell_type": "code",
   "execution_count": null,
   "id": "a4d856f3-0358-46b9-b49f-c305d066dc95",
   "metadata": {},
   "outputs": [],
   "source": [
    "def histogram_equalization(img):\n",
    "    global eye_folder_path, eye_filename\n",
    "    # Ensure the image is in grayscale\n",
    "    if len(img.shape) > 2:\n",
    "        img = cv2.cvtColor(img, cv2.COLOR_BGR2GRAY)\n",
    "\n",
    "    # Perform histogram equalization\n",
    "    equalized_img = cv2.equalizeHist(img)\n",
    "\n",
    "    # Save the Image\n",
    "    new_filename = eye_filename.replace('.bmp', '_6_HistogramEq.bmp')\n",
    "    new_image_path = os.path.join(eye_folder_path, new_filename)\n",
    "    cv2.imwrite(new_image_path, equalized_img)\n",
    "\n",
    "    return equalized_img"
   ]
  },
  {
   "cell_type": "markdown",
   "id": "ce7ced91-09ee-41c5-a419-aa9b036b2533",
   "metadata": {},
   "source": [
    "# Main Function"
   ]
  },
  {
   "cell_type": "code",
   "execution_count": null,
   "id": "2a9fb545-b125-4c30-a5ba-604724054387",
   "metadata": {},
   "outputs": [],
   "source": [
    "folder_path = '../DIP-Project/MMU-Iris-Database/'\n",
    "\n",
    "for root, dirs, files in os.walk(folder_path):\n",
    "    for file in files:\n",
    "        # Get path of image file\n",
    "        eye_image_path = os.path.join(root, file).replace('\\\\', '/')\n",
    "        print(eye_image_path)\n",
    "        temp = ' '.join(eye_image_path.split('/')[1:4])\n",
    "        \n",
    "        # Load Image and file details\n",
    "        eye_image_gs, eye_folder_path, eye_filename = load_image(eye_image_path)\n",
    "\n",
    "        # Pupil Segmentation\n",
    "        \n",
    "        threshold = 0.9\n",
    "        pupil_circle_x, pupil_circle_y, pupil_circle_radius = pupil_segmentation(eye_image_gs, threshold)\n",
    "        \n",
    "        while pupil_circle_x - pupil_circle_radius < 0 or pupil_circle_x + pupil_circle_radius > eye_image_gs.shape[1] or pupil_circle_y - pupil_circle_radius < 0 or pupil_circle_y + pupil_circle_radius > eye_image_gs.shape[0]:\n",
    "            threshold -= 0.1\n",
    "            if threshold > 0.5:\n",
    "                pupil_circle_x, pupil_circle_y, pupil_circle_radius = pupil_segmentation(eye_image_gs, threshold)\n",
    "            else:\n",
    "                print(f\"__________________________________Pupil Segmentation error {temp}\")\n",
    "            \n",
    "        # Iris Segmentation\n",
    "        \n",
    "        gamma = 3\n",
    "        circles = gamma_correction(gamma, eye_image_gs, pupil_circle_radius)\n",
    "        \n",
    "        # while circles is None:\n",
    "        #     if threshold > 0.5:\n",
    "        #         threshold -= 0.1\n",
    "        #         pupil_circle_x, pupil_circle_y, pupil_circle_radius = pupil_segmentation(eye_image_gs, threshold)\n",
    "        #         circles = gamma_correction(gamma, eye_image_gs, pupil_circle_radius)\n",
    "        #     else:\n",
    "        #         print(f\"******************************************Iris Segmentation Error {temp}\")\n",
    "        \n",
    "        iris_circle = iris_seg(gamma, eye_image_gs, pupil_circle_x, pupil_circle_y, pupil_circle_radius, threshold, circles)\n",
    "        \n",
    "        # Iris Normalization\n",
    "        \n",
    "        height = 50\n",
    "        width = 360\n",
    "        eye_image_rubber = iris_normalization(eye_image_gs, iris_circle, pupil_circle_radius, height, width)\n",
    "        \n",
    "        # Eyelash Detection\n",
    "        \n",
    "        threshold_ed = 0.7\n",
    "        eye_image_rubber_inv_dil = eyelash_detection(eye_image_rubber, threshold_ed)\n",
    "        \n",
    "        # Parabolic Projection\n",
    "        \n",
    "        eye_image_rubber_parablic_projection = parabolic_projection(eye_image_rubber_inv_dil, eye_image_rubber)\n",
    "\n",
    "        # Histogram equalized parabolic projection\n",
    "\n",
    "        finalIMG = histogram_equalization(eye_image_rubber_parablic_projection)\n",
    "\n",
    "        print(f\"{temp} Done\")"
   ]
  },
  {
   "cell_type": "code",
   "execution_count": null,
   "metadata": {},
   "outputs": [],
   "source": []
  }
 ],
 "metadata": {
  "kernelspec": {
   "display_name": "Python 3 (ipykernel)",
   "language": "python",
   "name": "python3"
  },
  "language_info": {
   "codemirror_mode": {
    "name": "ipython",
    "version": 3
   },
   "file_extension": ".py",
   "mimetype": "text/x-python",
   "name": "python",
   "nbconvert_exporter": "python",
   "pygments_lexer": "ipython3",
   "version": "3.11.4"
  }
 },
 "nbformat": 4,
 "nbformat_minor": 5
}
